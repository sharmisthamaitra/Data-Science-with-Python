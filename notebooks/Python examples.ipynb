{
 "cells": [
  {
   "cell_type": "markdown",
   "metadata": {},
   "source": [
    "### Python FOR loop "
   ]
  },
  {
   "cell_type": "code",
   "execution_count": 1,
   "metadata": {},
   "outputs": [
    {
     "name": "stdout",
     "output_type": "stream",
     "text": [
      "i= 1\n",
      "i= 2\n",
      "i= 3\n",
      "i= 4\n",
      "i= 5\n",
      "i= 6\n",
      "i= 7\n",
      "i= 8\n",
      "i= 9\n",
      "i= 10\n"
     ]
    }
   ],
   "source": [
    "for i in range (1,11):\n",
    "    print(\"i=\", i)\n"
   ]
  },
  {
   "cell_type": "markdown",
   "metadata": {},
   "source": [
    "### Python WHILE loop "
   ]
  },
  {
   "cell_type": "code",
   "execution_count": 4,
   "metadata": {},
   "outputs": [
    {
     "name": "stdout",
     "output_type": "stream",
     "text": [
      "i= 1\n",
      "i= 2\n",
      "i= 3\n",
      "i= 4\n",
      "i= 5\n",
      "i= 6\n",
      "i= 7\n",
      "i= 8\n",
      "i= 9\n",
      "i= 10\n"
     ]
    }
   ],
   "source": [
    "i = 1\n",
    "while i <= 10:\n",
    "    print(\"i=\", i)\n",
    "    #i = i + 1\n",
    "    i += 1"
   ]
  },
  {
   "cell_type": "markdown",
   "metadata": {},
   "source": [
    "### Python IF ELSE ELIF loop "
   ]
  },
  {
   "cell_type": "code",
   "execution_count": 9,
   "metadata": {},
   "outputs": [
    {
     "name": "stdout",
     "output_type": "stream",
     "text": [
      "10 is less than 20\n"
     ]
    }
   ],
   "source": [
    "a = 10\n",
    "b = 20\n",
    "\n",
    "if a < b:\n",
    "    print(\"{0} is less than {1}\".format(a,b))\n",
    "elif a == b:\n",
    "    print(\"{0} is equal to {1}\".format(a,b))\n",
    "else:\n",
    "    print(\"{0} is greater than {1}\".format(a,b))\n",
    "    "
   ]
  },
  {
   "cell_type": "markdown",
   "metadata": {},
   "source": [
    "### Python Fizzbuzz program. "
   ]
  },
  {
   "cell_type": "markdown",
   "metadata": {},
   "source": [
    "### Print 'fizz' for multiples of 3....'buzz' for multiples of 5... 'fizzbuzz' for multiples of 15¶ "
   ]
  },
  {
   "cell_type": "code",
   "execution_count": 17,
   "metadata": {},
   "outputs": [
    {
     "name": "stdout",
     "output_type": "stream",
     "text": [
      "i= 1\n",
      "i= 2\n",
      "3 is a multiple of 3, so fizz\n",
      "i= 4\n",
      "5 is a multiple of 5, so buzz\n",
      "6 is a multiple of 3, so fizz\n",
      "i= 7\n",
      "i= 8\n",
      "9 is a multiple of 3, so fizz\n",
      "10 is a multiple of 5, so buzz\n",
      "i= 11\n",
      "12 is a multiple of 3, so fizz\n",
      "i= 13\n",
      "i= 14\n",
      "15 is a multiple of 15, so fizzbuzz\n",
      "i= 16\n",
      "i= 17\n",
      "18 is a multiple of 3, so fizz\n",
      "i= 19\n",
      "20 is a multiple of 5, so buzz\n"
     ]
    }
   ],
   "source": [
    "for i in range (1,21):\n",
    "    if ((i % 3 == 0 and i % 5 == 0)):\n",
    "        print(\"{0} is a multiple of 15, so {1}\".format(i, \"fizzbuzz\"))\n",
    "    elif (i % 3 == 0):\n",
    "        print(\"{0} is a multiple of 3, so {1}\".format(i,\"fizz\"))\n",
    "    elif (i % 5 == 0):\n",
    "        print(\"{0} is a multiple of 5, so {1}\".format(i,\"buzz\"))\n",
    "    else:\n",
    "        print(\"i=\", i)"
   ]
  },
  {
   "cell_type": "markdown",
   "metadata": {},
   "source": [
    "### Fibonacci Series for first 20 nbrs "
   ]
  },
  {
   "cell_type": "code",
   "execution_count": 20,
   "metadata": {},
   "outputs": [
    {
     "name": "stdout",
     "output_type": "stream",
     "text": [
      "fib= 0\n",
      "fib= 1\n",
      "fib= 1\n",
      "fib= 2\n",
      "fib= 3\n",
      "fib= 5\n",
      "fib= 8\n",
      "fib= 13\n",
      "fib= 21\n",
      "fib= 34\n"
     ]
    }
   ],
   "source": [
    "#dirty hack\n",
    "a = 0\n",
    "print('fib=', a)\n",
    "b = 1\n",
    "print('fib=', b)\n",
    "for i in range (3,11):\n",
    "    fib = a + b\n",
    "    print('fib=', fib)\n",
    "    a = b\n",
    "    b = fib\n",
    "    "
   ]
  },
  {
   "cell_type": "code",
   "execution_count": 31,
   "metadata": {},
   "outputs": [
    {
     "name": "stdout",
     "output_type": "stream",
     "text": [
      "0\n",
      "i=0, a=1, b=2\n",
      "1\n",
      "i=1, a=2, b=4\n",
      "2\n",
      "i=2, a=4, b=8\n",
      "4\n",
      "i=3, a=8, b=16\n",
      "8\n",
      "i=4, a=16, b=32\n",
      "16\n",
      "i=5, a=32, b=64\n",
      "32\n",
      "i=6, a=64, b=128\n",
      "64\n",
      "i=7, a=128, b=256\n",
      "128\n",
      "i=8, a=256, b=512\n",
      "256\n",
      "i=9, a=512, b=1024\n",
      "512\n",
      "i=10, a=1024, b=2048\n"
     ]
    }
   ],
   "source": [
    "#dirty hack\n",
    "a = 0\n",
    "b = 1\n",
    "\n",
    "for i in range (0,11):\n",
    "    print(a)\n",
    "    a = b \n",
    "    b = a + b\n",
    "    \n",
    "    print('i={0}, a={1}, b={2}'.format(i,a,b))"
   ]
  },
  {
   "cell_type": "code",
   "execution_count": 28,
   "metadata": {},
   "outputs": [
    {
     "name": "stdout",
     "output_type": "stream",
     "text": [
      "a= 0\n",
      "b= 1\n",
      "0\n",
      "i=0, a=1, b=1\n",
      "1\n",
      "i=1, a=1, b=2\n",
      "1\n",
      "i=2, a=2, b=3\n",
      "2\n",
      "i=3, a=3, b=5\n",
      "3\n",
      "i=4, a=5, b=8\n",
      "5\n",
      "i=5, a=8, b=13\n",
      "8\n",
      "i=6, a=13, b=21\n",
      "13\n",
      "i=7, a=21, b=34\n",
      "21\n",
      "i=8, a=34, b=55\n",
      "34\n",
      "i=9, a=55, b=89\n",
      "55\n",
      "i=10, a=89, b=144\n"
     ]
    }
   ],
   "source": [
    "\n",
    "a, b = 0, 1\n",
    "print('a=', a)\n",
    "print('b=', b)\n",
    "for i in range(0,11):\n",
    "    print(a)\n",
    "    a, b = b, a + b\n",
    "    print('i={0}, a={1}, b={2}'.format(i,a,b))\n"
   ]
  },
  {
   "cell_type": "markdown",
   "metadata": {},
   "source": [
    "### Python lists, tuples, dictionaries and sets "
   ]
  },
  {
   "cell_type": "code",
   "execution_count": 62,
   "metadata": {},
   "outputs": [
    {
     "name": "stdout",
     "output_type": "stream",
     "text": [
      "my_list [10, 20, 30, 40, 50] 10\n",
      "my_list [10, 20, 30, 40, 50] 20\n",
      "my_list [10, 20, 30, 40, 50] 30\n",
      "my_list [10, 20, 30, 40, 50] 40\n",
      "my_list [10, 20, 30, 40, 50] 50\n",
      "my_list 10\n",
      "my_list 20\n",
      "my_list 30\n",
      "my_list 40\n",
      "my_list 50\n",
      "my_list 10\n",
      "my_list 20\n",
      "my_list 30\n",
      "my_list 40\n",
      "my_list 50\n",
      "[10, 20, 30, 40, 50, [60, 70]]\n"
     ]
    }
   ],
   "source": [
    "my_list = [10,20,30,40,50]\n",
    "for i in my_list:\n",
    "    print(\"my_list\", my_list, i)\n",
    "    \n",
    "for i in my_list:\n",
    "    print(\"my_list\", i)\n",
    "    \n",
    "for i in range(0,5):\n",
    "    print(\"my_list\", my_list[i])\n",
    "    \n",
    "my_list.append([60,70]) \n",
    "print(my_list)"
   ]
  },
  {
   "cell_type": "code",
   "execution_count": 63,
   "metadata": {},
   "outputs": [
    {
     "name": "stdout",
     "output_type": "stream",
     "text": [
      "my_tuple (10, 20, 30, 40, 50) 10\n",
      "my_tuple (10, 20, 30, 40, 50) 20\n",
      "my_tuple (10, 20, 30, 40, 50) 30\n",
      "my_tuple (10, 20, 30, 40, 50) 40\n",
      "my_tuple (10, 20, 30, 40, 50) 50\n",
      "my_tuple 10\n",
      "my_tuple 20\n",
      "my_tuple 30\n",
      "my_tuple 40\n",
      "my_tuple 50\n",
      "my_tuple 10\n",
      "my_tuple 20\n",
      "my_tuple 30\n",
      "my_tuple 40\n",
      "my_tuple 50\n"
     ]
    }
   ],
   "source": [
    "my_tuple = (10,20,30,40,50)\n",
    "for i in my_tuple:\n",
    "    print(\"my_tuple\", my_tuple, i)\n",
    "\n",
    "    \n",
    "for i in my_tuple:\n",
    "    print(\"my_tuple\", i)\n",
    "    \n",
    "\n",
    "for i in range(0,5):\n",
    "    print(\"my_tuple\", my_tuple[i])\n",
    "    \n",
    "#my_tuple.append([6,7]) ===> append cannot be applied on tuple\n",
    "#print(my_tuple)"
   ]
  },
  {
   "cell_type": "code",
   "execution_count": 53,
   "metadata": {},
   "outputs": [
    {
     "name": "stdout",
     "output_type": "stream",
     "text": [
      "my_dict {'name': 'david', 'city': 'phoenix', 'zip': '94404'} name\n",
      "my_dict {'name': 'david', 'city': 'phoenix', 'zip': '94404'} city\n",
      "my_dict {'name': 'david', 'city': 'phoenix', 'zip': '94404'} zip\n",
      "my_dict name\n",
      "my_dict city\n",
      "my_dict zip\n"
     ]
    }
   ],
   "source": [
    "my_dict = {'name':'david', 'city' : 'phoenix', 'zip' : '94404'}\n",
    "for i in my_dict:\n",
    "    print(\"my_dict\", my_dict, i)\n",
    "    \n",
    "for i in my_dict:\n",
    "    print(\"my_dict\", i)\n",
    "    \n",
    "    "
   ]
  },
  {
   "cell_type": "code",
   "execution_count": 65,
   "metadata": {},
   "outputs": [
    {
     "name": "stdout",
     "output_type": "stream",
     "text": [
      "my_set [1, 2, 3, 3, 4, 5, 5, 6] 1\n",
      "my_set [1, 2, 3, 3, 4, 5, 5, 6] 2\n",
      "my_set [1, 2, 3, 3, 4, 5, 5, 6] 3\n",
      "my_set [1, 2, 3, 3, 4, 5, 5, 6] 3\n",
      "my_set [1, 2, 3, 3, 4, 5, 5, 6] 4\n",
      "my_set [1, 2, 3, 3, 4, 5, 5, 6] 5\n",
      "my_set [1, 2, 3, 3, 4, 5, 5, 6] 5\n",
      "my_set [1, 2, 3, 3, 4, 5, 5, 6] 6\n",
      "my_set 1\n",
      "my_set 2\n",
      "my_set 3\n",
      "my_set 3\n",
      "my_set 4\n",
      "my_set 5\n",
      "my_set 5\n",
      "my_set 6\n",
      "my_set 0 1\n",
      "my_set 1 2\n",
      "my_set 2 3\n",
      "my_set 3 3\n",
      "my_set 4 4\n",
      "my_set 5 5\n",
      "my_set 6 5\n",
      "my_set 7 6\n"
     ]
    }
   ],
   "source": [
    "my_set = [1,2,3,3,4,5,5,6]\n",
    "for i in my_set:\n",
    "    print(\"my_set\", my_set, i)\n",
    "    \n",
    "for i in my_set:\n",
    "    print(\"my_set\", i)\n",
    "    \n",
    "\n",
    "for i in range(0,8):\n",
    "    print(\"my_set\", i, my_set[i])\n",
    "\n"
   ]
  },
  {
   "cell_type": "code",
   "execution_count": null,
   "metadata": {},
   "outputs": [],
   "source": []
  }
 ],
 "metadata": {
  "kernelspec": {
   "display_name": "Python 3",
   "language": "python",
   "name": "python3"
  },
  "language_info": {
   "codemirror_mode": {
    "name": "ipython",
    "version": 3
   },
   "file_extension": ".py",
   "mimetype": "text/x-python",
   "name": "python",
   "nbconvert_exporter": "python",
   "pygments_lexer": "ipython3",
   "version": "3.6.4"
  }
 },
 "nbformat": 4,
 "nbformat_minor": 2
}
